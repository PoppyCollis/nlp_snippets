{
 "cells": [
  {
   "attachments": {},
   "cell_type": "markdown",
   "metadata": {
    "id": "f2S8I2ny-ovS"
   },
   "source": [
    "# Sentiment Classification\n",
    "\n",
    "Project investigating NLP methods for distinguishing positive and negative reviews written about movies."
   ]
  },
  {
   "cell_type": "code",
   "execution_count": 1,
   "metadata": {
    "executionInfo": {
     "elapsed": 776,
     "status": "ok",
     "timestamp": 1602225678050,
     "user": {
      "displayName": "Julie Weeds",
      "photoUrl": "",
      "userId": "13844540934373660130"
     },
     "user_tz": -60
    },
    "id": "1gXQAZas-l9c"
   },
   "outputs": [],
   "source": [
    "seed_num=462488"
   ]
  },
  {
   "cell_type": "code",
   "execution_count": 2,
   "metadata": {
    "colab": {
     "base_uri": "https://localhost:8080/",
     "height": 102
    },
    "executionInfo": {
     "elapsed": 7200,
     "status": "ok",
     "timestamp": 1602224747300,
     "user": {
      "displayName": "Julie Weeds",
      "photoUrl": "",
      "userId": "13844540934373660130"
     },
     "user_tz": -60
    },
    "id": "nk8JTP88A8vs",
    "outputId": "65e59f95-9e7d-494f-d156-a0428f135fef"
   },
   "outputs": [
    {
     "name": "stderr",
     "output_type": "stream",
     "text": [
      "[nltk_data] Downloading package punkt to /home/poppy/nltk_data...\n",
      "[nltk_data]   Package punkt is already up-to-date!\n",
      "[nltk_data] Downloading package stopwords to /home/poppy/nltk_data...\n",
      "[nltk_data]   Package stopwords is already up-to-date!\n",
      "[nltk_data] Downloading package movie_reviews to\n",
      "[nltk_data]     /home/poppy/nltk_data...\n",
      "[nltk_data]   Package movie_reviews is already up-to-date!\n"
     ]
    }
   ],
   "source": [
    "#do not change the code in this cell\n",
    "#preliminary imports\n",
    "\n",
    "#set up nltk\n",
    "import nltk\n",
    "nltk.download('punkt')\n",
    "nltk.download('stopwords')\n",
    "nltk.download('movie_reviews')\n",
    "from nltk.corpus import stopwords\n",
    "from nltk.tokenize import word_tokenize\n",
    "from nltk.corpus import movie_reviews\n",
    "\n",
    "#for setting up training and testing data\n",
    "import random\n",
    "\n",
    "#useful other tools\n",
    "import re\n",
    "import pandas as pd\n",
    "import matplotlib.pyplot as plt\n",
    "%matplotlib inline\n",
    "from itertools import zip_longest\n",
    "from nltk.probability import FreqDist\n",
    "from nltk.classify.api import ClassifierI\n"
   ]
  },
  {
   "cell_type": "code",
   "execution_count": 3,
   "metadata": {
    "executionInfo": {
     "elapsed": 854,
     "status": "ok",
     "timestamp": 1602226177157,
     "user": {
      "displayName": "Julie Weeds",
      "photoUrl": "",
      "userId": "13844540934373660130"
     },
     "user_tz": -60
    },
    "id": "BHBkzAccCVaZ"
   },
   "outputs": [],
   "source": [
    "def split_data(data, ratio=0.7): # when the second argument is not given, it defaults to 0.7\n",
    "    \"\"\"\n",
    "    Given corpus generator and ratio:\n",
    "     - partitions the corpus into training data and test data, where the proportion in train is ratio,\n",
    "\n",
    "    :param data: A corpus generator.\n",
    "    :param ratio: The proportion of training documents (default 0.7)\n",
    "    :return: a pair (tuple) of lists where the first element of the \n",
    "            pair is a list of the training data and the second is a list of the test data.\n",
    "    \"\"\"\n",
    "    \n",
    "    data = list(data)  \n",
    "    n = len(data)  \n",
    "    train_indices = random.sample(range(n), int(n * ratio))          \n",
    "    test_indices = list(set(range(n)) - set(train_indices))    \n",
    "    train = [data[i] for i in train_indices]           \n",
    "    test = [data[i] for i in test_indices]             \n",
    "    return (train, test)                       \n",
    " \n",
    "\n",
    "def get_train_test_data():\n",
    "    \n",
    "    #get ids of positive and negative movie reviews\n",
    "    pos_review_ids=movie_reviews.fileids('pos')\n",
    "    neg_review_ids=movie_reviews.fileids('neg')\n",
    "   \n",
    "    #split positive and negative data into training and testing sets\n",
    "    pos_train_ids, pos_test_ids = split_data(pos_review_ids)\n",
    "    neg_train_ids, neg_test_ids = split_data(neg_review_ids)\n",
    "    #add labels to the data and concatenate\n",
    "    training = [(movie_reviews.words(f),'pos') for f in pos_train_ids]+[(movie_reviews.words(f),'neg') for f in neg_train_ids]\n",
    "    testing = [(movie_reviews.words(f),'pos') for f in pos_test_ids]+[(movie_reviews.words(f),'neg') for f in neg_test_ids]\n",
    "   \n",
    "    return training, testing"
   ]
  },
  {
   "cell_type": "markdown",
   "metadata": {
    "id": "1N3LWwBYICPP"
   },
   "source": [
    "When you have run the cell below, your unique training and testing samples will be stored in `training_data` and `testing_data`"
   ]
  },
  {
   "cell_type": "code",
   "execution_count": 4,
   "metadata": {
    "colab": {
     "base_uri": "https://localhost:8080/",
     "height": 105
    },
    "executionInfo": {
     "elapsed": 17300,
     "status": "ok",
     "timestamp": 1602226420608,
     "user": {
      "displayName": "Julie Weeds",
      "photoUrl": "",
      "userId": "13844540934373660130"
     },
     "user_tz": -60
    },
    "id": "HJLegkdPFUJA",
    "outputId": "b29ea6a9-ea00-4b68-f0cb-ce9e6fa25233"
   },
   "outputs": [
    {
     "name": "stdout",
     "output_type": "stream",
     "text": [
      "The amount of training data is 1400\n",
      "The amount of testing data is 600\n",
      "The representation of a single data item is below\n",
      "(['the', 'party', 'is', 'one', 'of', 'those', 'classic', ...], 'pos')\n"
     ]
    }
   ],
   "source": [
    "#do not change the code in this cell\n",
    "random.seed(seed_num)\n",
    "training_data,testing_data=get_train_test_data()\n",
    "print(\"The amount of training data is {}\".format(len(training_data)))\n",
    "print(\"The amount of testing data is {}\".format(len(testing_data)))\n",
    "print(\"The representation of a single data item is below\")\n",
    "print(training_data[0])"
   ]
  },
  {
   "attachments": {},
   "cell_type": "markdown",
   "metadata": {},
   "source": [
    "## Part 1   \n",
    "\n",
    "a) **Generation** of a list of 10 content words which are representative of the positive reviews in the training data.\n",
    "\n",
    "b) **Generation** of a list of 10 content words which are representative of the negative reviews in the training data.\n",
    "\n",
    "c) **Explanation** of what I have done and why"
   ]
  },
  {
   "cell_type": "code",
   "execution_count": 5,
   "metadata": {},
   "outputs": [],
   "source": [
    "#first I want to normalise my training data...\n",
    "\n",
    "from nltk.stem.wordnet import WordNetLemmatizer\n",
    "\n",
    "\n",
    "def punct_norm(data_set):\n",
    "    punct = '''!()-[]{};:--'\"\\, <>./?@#$%^&*_~'''\n",
    "    normalised_data = []\n",
    "    for review_pair in data_set:\n",
    "        filtered_tokens = []\n",
    "        for token in list(review_pair[0]):\n",
    "            if token not in punct:\n",
    "                filtered_tokens.append(token)\n",
    "        normalised_data.append((filtered_tokens, review_pair[1]))\n",
    "    return normalised_data\n",
    "\n",
    "def num_norm(data_set):\n",
    "    normalised_data = []\n",
    "    for review_pair in data_set:\n",
    "        filtered_tokens = ([\"NUM\" if token.isdigit() else token for token in list(review_pair[0])])\n",
    "        filtered_tokens = ([\"Nth\" if not token.isalpha() and token.endswith((\"th\",\"rd\",\"nd\",\"st\")) else token for token in filtered_tokens])\n",
    "        normalised_data.append((filtered_tokens, review_pair[1]))\n",
    "    return normalised_data\n",
    "\n",
    "def lemmatize(data_set):\n",
    "    lem = WordNetLemmatizer()\n",
    "    normalised_data = []\n",
    "    for review_pair in data_set:\n",
    "        filtered_tokens = []\n",
    "        for token in list(review_pair[0]):\n",
    "            filtered_tokens.append(lem.lemmatize(token))\n",
    "        normalised_data.append((filtered_tokens, review_pair[1]))\n",
    "    return normalised_data\n",
    "\n",
    "def remove_stop_words(data_set):\n",
    "    keyword_list = [\"the\"]\n",
    "    stop = stopwords.words('english') \n",
    "    normalised_data = []\n",
    "    for review_pair in data_set:\n",
    "        filtered_tokens = []\n",
    "        for token in list(review_pair[0]):\n",
    "            if token in stop or token in keyword_list:\n",
    "                pass\n",
    "            else:\n",
    "                filtered_tokens.append(token)\n",
    "        normalised_data.append((filtered_tokens, review_pair[1]))\n",
    "    return normalised_data\n",
    "\n",
    "def normalise(data):\n",
    "    norm = punct_norm(data)\n",
    "    norm = num_norm(norm)\n",
    "    norm = remove_stop_words(norm)\n",
    "    norm = lemmatize(norm)\n",
    "    return norm\n",
    "\n",
    "training_norm = normalise(training_data)\n",
    "testing_norm = normalise(testing_data)"
   ]
  },
  {
   "cell_type": "code",
   "execution_count": 6,
   "metadata": {},
   "outputs": [],
   "source": [
    "#next get the frequency distributions from data\n",
    "\n",
    "def get_frequency_dists(training_data):\n",
    "    pos_freq_dist=FreqDist()\n",
    "    neg_freq_dist=FreqDist()\n",
    "    for reviewDist,label in training_data:\n",
    "        if label=='pos':\n",
    "            pos_freq_dist+=FreqDist(reviewDist)\n",
    "        else:\n",
    "            neg_freq_dist+=FreqDist(reviewDist)\n",
    "    return pos_freq_dist, neg_freq_dist\n",
    "    \n",
    "pos_freq_dist, neg_freq_dist = get_frequency_dists(training_norm)"
   ]
  },
  {
   "cell_type": "code",
   "execution_count": 7,
   "metadata": {},
   "outputs": [],
   "source": [
    "#then get the greatest frequency difference relative to the other distribution\n",
    "\n",
    "def most_frequent_words(fd1, fd2, k):\n",
    "    more_freq = FreqDist()\n",
    "    for word in fd1.keys():\n",
    "        if word in fd2:\n",
    "            more_freq[word] = fd1[word] - fd2[word]\n",
    "        else:\n",
    "            more_freq[word] = fd1[word]\n",
    "    return dict(more_freq.most_common(k))\n",
    "\n",
    "\n",
    "pos_word_list = most_frequent_words(pos_freq_dist, neg_freq_dist, 10)\n",
    "neg_word_list = most_frequent_words(neg_freq_dist, pos_freq_dist, 10)"
   ]
  },
  {
   "cell_type": "code",
   "execution_count": 8,
   "metadata": {},
   "outputs": [
    {
     "data": {
      "text/html": [
       "<style  type=\"text/css\" >\n",
       "</style><table id=\"T_b749f_\" style = 'displaye:inline'><caption>1. a) Positive Word List</caption><thead>    <tr>        <th class=\"blank level0\" ></th>        <th class=\"col_heading level0 col0\" >Word</th>        <th class=\"col_heading level0 col1\" >Freq</th>    </tr></thead><tbody>\n",
       "                <tr>\n",
       "                        <th id=\"T_b749f_level0_row0\" class=\"row_heading level0 row0\" >0</th>\n",
       "                        <td id=\"T_b749f_row0_col0\" class=\"data row0 col0\" >film</td>\n",
       "                        <td id=\"T_b749f_row0_col1\" class=\"data row0 col1\" >886</td>\n",
       "            </tr>\n",
       "            <tr>\n",
       "                        <th id=\"T_b749f_level0_row1\" class=\"row_heading level0 row1\" >1</th>\n",
       "                        <td id=\"T_b749f_row1_col0\" class=\"data row1 col0\" >life</td>\n",
       "                        <td id=\"T_b749f_row1_col1\" class=\"data row1 col1\" >429</td>\n",
       "            </tr>\n",
       "            <tr>\n",
       "                        <th id=\"T_b749f_level0_row2\" class=\"row_heading level0 row2\" >2</th>\n",
       "                        <td id=\"T_b749f_row2_col0\" class=\"data row2 col0\" >also</td>\n",
       "                        <td id=\"T_b749f_row2_col1\" class=\"data row2 col1\" >366</td>\n",
       "            </tr>\n",
       "            <tr>\n",
       "                        <th id=\"T_b749f_level0_row3\" class=\"row_heading level0 row3\" >3</th>\n",
       "                        <td id=\"T_b749f_row3_col0\" class=\"data row3 col0\" >one</td>\n",
       "                        <td id=\"T_b749f_row3_col1\" class=\"data row3 col1\" >326</td>\n",
       "            </tr>\n",
       "            <tr>\n",
       "                        <th id=\"T_b749f_level0_row4\" class=\"row_heading level0 row4\" >4</th>\n",
       "                        <td id=\"T_b749f_row4_col0\" class=\"data row4 col0\" >story</td>\n",
       "                        <td id=\"T_b749f_row4_col1\" class=\"data row4 col1\" >306</td>\n",
       "            </tr>\n",
       "            <tr>\n",
       "                        <th id=\"T_b749f_level0_row5\" class=\"row_heading level0 row5\" >5</th>\n",
       "                        <td id=\"T_b749f_row5_col0\" class=\"data row5 col0\" >well</td>\n",
       "                        <td id=\"T_b749f_row5_col1\" class=\"data row5 col1\" >287</td>\n",
       "            </tr>\n",
       "            <tr>\n",
       "                        <th id=\"T_b749f_level0_row6\" class=\"row_heading level0 row6\" >6</th>\n",
       "                        <td id=\"T_b749f_row6_col0\" class=\"data row6 col0\" >great</td>\n",
       "                        <td id=\"T_b749f_row6_col1\" class=\"data row6 col1\" >285</td>\n",
       "            </tr>\n",
       "            <tr>\n",
       "                        <th id=\"T_b749f_level0_row7\" class=\"row_heading level0 row7\" >7</th>\n",
       "                        <td id=\"T_b749f_row7_col0\" class=\"data row7 col0\" >performance</td>\n",
       "                        <td id=\"T_b749f_row7_col1\" class=\"data row7 col1\" >262</td>\n",
       "            </tr>\n",
       "            <tr>\n",
       "                        <th id=\"T_b749f_level0_row8\" class=\"row_heading level0 row8\" >8</th>\n",
       "                        <td id=\"T_b749f_row8_col0\" class=\"data row8 col0\" >world</td>\n",
       "                        <td id=\"T_b749f_row8_col1\" class=\"data row8 col1\" >248</td>\n",
       "            </tr>\n",
       "            <tr>\n",
       "                        <th id=\"T_b749f_level0_row9\" class=\"row_heading level0 row9\" >9</th>\n",
       "                        <td id=\"T_b749f_row9_col0\" class=\"data row9 col0\" >many</td>\n",
       "                        <td id=\"T_b749f_row9_col1\" class=\"data row9 col1\" >221</td>\n",
       "            </tr>\n",
       "    </tbody></table>"
      ],
      "text/plain": [
       "<pandas.io.formats.style.Styler at 0x7fe541437070>"
      ]
     },
     "execution_count": 8,
     "metadata": {},
     "output_type": "execute_result"
    }
   ],
   "source": [
    "positive_wl = pd.DataFrame(pos_word_list.items(), columns=[\"Word\", \"Freq\"])\n",
    "positive_wl.style.set_table_attributes(\"style = 'displaye:inline'\").set_caption(\"1. a) Positive Word List\")"
   ]
  },
  {
   "cell_type": "code",
   "execution_count": 9,
   "metadata": {},
   "outputs": [
    {
     "data": {
      "text/html": [
       "<style  type=\"text/css\" >\n",
       "</style><table id=\"T_6bae6_\" style = 'displaye:inline'><caption>1. b) Negative Word List</caption><thead>    <tr>        <th class=\"blank level0\" ></th>        <th class=\"col_heading level0 col0\" >Word</th>        <th class=\"col_heading level0 col1\" >Freq</th>    </tr></thead><tbody>\n",
       "                <tr>\n",
       "                        <th id=\"T_6bae6_level0_row0\" class=\"row_heading level0 row0\" >0</th>\n",
       "                        <td id=\"T_6bae6_row0_col0\" class=\"data row0 col0\" >bad</td>\n",
       "                        <td id=\"T_6bae6_row0_col1\" class=\"data row0 col1\" >476</td>\n",
       "            </tr>\n",
       "            <tr>\n",
       "                        <th id=\"T_6bae6_level0_row1\" class=\"row_heading level0 row1\" >1</th>\n",
       "                        <td id=\"T_6bae6_row1_col0\" class=\"data row1 col0\" >movie</td>\n",
       "                        <td id=\"T_6bae6_row1_col1\" class=\"data row1 col1\" >449</td>\n",
       "            </tr>\n",
       "            <tr>\n",
       "                        <th id=\"T_6bae6_level0_row2\" class=\"row_heading level0 row2\" >2</th>\n",
       "                        <td id=\"T_6bae6_row2_col0\" class=\"data row2 col0\" >plot</td>\n",
       "                        <td id=\"T_6bae6_row2_col1\" class=\"data row2 col1\" >205</td>\n",
       "            </tr>\n",
       "            <tr>\n",
       "                        <th id=\"T_6bae6_level0_row3\" class=\"row_heading level0 row3\" >3</th>\n",
       "                        <td id=\"T_6bae6_row3_col0\" class=\"data row3 col0\" >minute</td>\n",
       "                        <td id=\"T_6bae6_row3_col1\" class=\"data row3 col1\" >145</td>\n",
       "            </tr>\n",
       "            <tr>\n",
       "                        <th id=\"T_6bae6_level0_row4\" class=\"row_heading level0 row4\" >4</th>\n",
       "                        <td id=\"T_6bae6_row4_col0\" class=\"data row4 col0\" >worst</td>\n",
       "                        <td id=\"T_6bae6_row4_col1\" class=\"data row4 col1\" >142</td>\n",
       "            </tr>\n",
       "            <tr>\n",
       "                        <th id=\"T_6bae6_level0_row5\" class=\"row_heading level0 row5\" >5</th>\n",
       "                        <td id=\"T_6bae6_row5_col0\" class=\"data row5 col0\" >could</td>\n",
       "                        <td id=\"T_6bae6_row5_col1\" class=\"data row5 col1\" >115</td>\n",
       "            </tr>\n",
       "            <tr>\n",
       "                        <th id=\"T_6bae6_level0_row6\" class=\"row_heading level0 row6\" >6</th>\n",
       "                        <td id=\"T_6bae6_row6_col0\" class=\"data row6 col0\" >attempt</td>\n",
       "                        <td id=\"T_6bae6_row6_col1\" class=\"data row6 col1\" >109</td>\n",
       "            </tr>\n",
       "            <tr>\n",
       "                        <th id=\"T_6bae6_level0_row7\" class=\"row_heading level0 row7\" >7</th>\n",
       "                        <td id=\"T_6bae6_row7_col0\" class=\"data row7 col0\" >script</td>\n",
       "                        <td id=\"T_6bae6_row7_col1\" class=\"data row7 col1\" >107</td>\n",
       "            </tr>\n",
       "            <tr>\n",
       "                        <th id=\"T_6bae6_level0_row8\" class=\"row_heading level0 row8\" >8</th>\n",
       "                        <td id=\"T_6bae6_row8_col0\" class=\"data row8 col0\" >boring</td>\n",
       "                        <td id=\"T_6bae6_row8_col1\" class=\"data row8 col1\" >105</td>\n",
       "            </tr>\n",
       "            <tr>\n",
       "                        <th id=\"T_6bae6_level0_row9\" class=\"row_heading level0 row9\" >9</th>\n",
       "                        <td id=\"T_6bae6_row9_col0\" class=\"data row9 col0\" >big</td>\n",
       "                        <td id=\"T_6bae6_row9_col1\" class=\"data row9 col1\" >101</td>\n",
       "            </tr>\n",
       "    </tbody></table>"
      ],
      "text/plain": [
       "<pandas.io.formats.style.Styler at 0x7fe541437700>"
      ]
     },
     "execution_count": 9,
     "metadata": {},
     "output_type": "execute_result"
    }
   ],
   "source": [
    "negative_wl = pd.DataFrame(neg_word_list.items(), columns=[\"Word\", \"Freq\"])\n",
    "negative_wl.style.set_table_attributes(\"style = 'displaye:inline'\").set_caption(\"1. b) Negative Word List\")"
   ]
  },
  {
   "cell_type": "markdown",
   "metadata": {},
   "source": [
    "Type Markdown and LaTeX:  𝛼2"
   ]
  },
  {
   "cell_type": "markdown",
   "metadata": {},
   "source": [
    "### 1. c)\n",
    "\n",
    "PART 1. NORMALISATION\n",
    "\n",
    "The first step is to normalise the training and testing data, labelled training_norm and testing_norm. The reason for this is to reduce the documents to just their most key features which are most informative for the purpose of classifying the documents as either positive or negative.\n",
    "\n",
    "The data was already case normalised to lower case, so I chose to normalise by removing all of the punctuation and special characters, converting all numbers into ‘NUM’ (as well as ‘Nth’ for ‘1st’, ‘2nd’ etc). This is because actual contents of the numbers are not particularly indicative of positive or negative sentiment, and this helps remove some of the words that only occur once in our corpus (known as hapax legonoma).\n",
    "\n",
    "I chose to then reduce the vocabulary size further by lemmatizing (using the NLTK lemmatizer) in order to reduce words down to their root form (meaning ‘films’ would become ‘film’ etc), which further helps to concentrate the text into a collection of more homogenous important features. I chose lemmatizing over stemming as stemming just chops off the last few letters of the word often producing incorrect meanings.\n",
    "\n",
    "I also removed stop words (very common so-called function words such as ‘a’ and ‘is’) which don’t carry much meaning in the context of positive and negative sentiment analysis therefore it is safe to say that we want to ignore them, and well as removing the word ‘the’ (as was not in nltk stop word list).\n",
    "\n",
    "PART 2. GREATEST FREQUENCY DIFFERENCE\n",
    "\n",
    "In order to see the relative importance of each feature (word) in the document collection, we can find the frequency of the occurrence of each word. This involved going through each labelled class of document (‘pos’ or ‘neg’) and putting all of the words into a single frequency distribution for each class (using FreqDist from nltk.probability). This gives a list of an ordered frequency distribution for the features in positive reviews and the features in negative reviews.\n",
    "\n",
    "The final step was to then get the most frequent words from each distribution relative to the other distribution (so the greatest frequency difference). It is important that it is the highest scoring relative to the other as we want the document features that most uniquely represent that class in the context of all classes.\n",
    "\n",
    "The function most_frequent_words has 3 parameters, two of which are frequency distributions (in this case we will pass our in our positive and negative FreqDists) and the third a natural number k which will tell us how many of the top scoring words we want to return. I then called this function twice, first for positive relative to negative and second for negative relative to positive producing a list of the top 10 words most representative of my positive and negative reviews respectively. I chose to return the top most frequent words as opposed the top words above a certain frequency threshold as this latter method returns very unbalanced list sizes (the positive list was much longer than the negative list) therefore this would have led to the introduction of a bias towards classifying reviews as positive when using these lists below in question 2.\n"
   ]
  },
  {
   "attachments": {},
   "cell_type": "markdown",
   "metadata": {
    "id": "TApOQE6vND20"
   },
   "source": [
    "## Part 2\n",
    "a) **Using** the lists generated in part 1 to build a **word list classifier** which will classify reviews as being positive or negative.\n",
    "\n",
    "b) **Explanation** of what I have done and why\n"
   ]
  },
  {
   "cell_type": "code",
   "execution_count": 10,
   "metadata": {},
   "outputs": [],
   "source": [
    "from nltk.classify.api import ClassifierI\n",
    "import random\n",
    "\n",
    "class WordListClassifier(ClassifierI): \n",
    "\n",
    "    def __init__(self, pos, neg): \n",
    "        self.pos = pos \n",
    "        self.neg = neg \n",
    "\n",
    "    def classify(self, words): \n",
    "        score = 0\n",
    "        for word in words:\n",
    "            if word in self.pos:\n",
    "                score = score + 1\n",
    "            elif word in self.neg:\n",
    "                score = score - 1\n",
    "        if score == 0:\n",
    "            score = random.choice([-1, 1])\n",
    "        return \"neg\" if score < 0 else \"pos\"\n",
    "    \n",
    "    def labels(self): \n",
    "        return (\"pos\", \"neg\")"
   ]
  },
  {
   "cell_type": "code",
   "execution_count": 11,
   "metadata": {},
   "outputs": [],
   "source": [
    "classifier = WordListClassifier(pos_word_list, neg_word_list)"
   ]
  },
  {
   "cell_type": "markdown",
   "metadata": {},
   "source": [
    "Type Markdown and LaTeX:  𝛼2"
   ]
  },
  {
   "cell_type": "markdown",
   "metadata": {},
   "source": [
    "### 2. b)\n",
    "\n",
    "My classifier inherits from ClassifierI which I imported (meaning that it inherits the classify_many method). The classifier is initialised with two arguments, a positive and a negative word list (in this case I use the top 10 most representative words from each class created above.\n",
    "\n",
    "It has a classify method which goes through each word in a document and adds 1 to the score if it encounters a word in the positive list and subtracts 1 if it encounters a word from the negative list. It returns negative if the final score comes out as less than zero and positive if more than zero, as this is indicative of the total number of words from each it has come across. If the score is zero (i.e. it has come across an equal number of positive and negative words), then it just randomly assigns it either a -1 or 1 (so just guesses ‘pos’ or ‘neg’ at random). It also has a labels method which returns the classification labels."
   ]
  },
  {
   "attachments": {},
   "cell_type": "markdown",
   "metadata": {},
   "source": [
    "## Part 3\n",
    "a) **Calculating** the accuracy, precision, recall and F1 score of the classifier.\n",
    "\n",
    "b) **Explanation** of why it is reasonable to evaluate the classifier in terms of its accuracy."
   ]
  },
  {
   "cell_type": "code",
   "execution_count": 12,
   "metadata": {},
   "outputs": [],
   "source": [
    "class ConfusionMatrix:\n",
    "    def __init__(self,predictions,goldstandard,classes=(\"pos\",\"neg\")): \n",
    "        \n",
    "        (self.c1,self.c2) = classes\n",
    "        \n",
    "        self.TP=0\n",
    "        self.FP=0\n",
    "        self.FN=0\n",
    "        self.TN=0\n",
    "        for p,g in zip(predictions,goldstandard):\n",
    "            \n",
    "            if g==self.c1:\n",
    "                if p==self.c1:\n",
    "                    self.TP = self.TP + 1\n",
    "                else:\n",
    "                    self.FN = self.FN + 1\n",
    "                    \n",
    "            elif p==self.c1:\n",
    "                self.FP = self.FP + 1\n",
    "            else:\n",
    "                self.TN = self.TN + 1     \n",
    "    \n",
    "    def precision(self):\n",
    "        p = 0\n",
    "        p = self.TP / (self.TP + self.FP)\n",
    "        return p\n",
    "  \n",
    "    def recall(self):\n",
    "        r = 0\n",
    "        r = self.TP / (self.TP + self.FN)\n",
    "        return r\n",
    "  \n",
    "    def f1(self):\n",
    "        f1=0\n",
    "        f1 = 2 * ((self.precision() * self.recall()) / (self.precision() + self.recall()))\n",
    "        return f1 "
   ]
  },
  {
   "cell_type": "code",
   "execution_count": 13,
   "metadata": {},
   "outputs": [],
   "source": [
    "def classifier_evaluate(cls, test_data):\n",
    "    '''\n",
    "    cls: an instance of a classifier object which has a classify method which returns \"pos\" or \"neg\"\n",
    "    test_data: a list of pairs where each pair is a FreqDist rep of a doc and its label\n",
    "  \n",
    "    returns: float point number which is the accuracy of the classifier on the test data provided \n",
    "    '''\n",
    "    acc = 0\n",
    "    docs,goldstandard=zip(*test_data) #note this neat pythonic way of turning a list of pairs into a pair of lists\n",
    "    #pass all of the docs to the classifier and get back a list of predictions\n",
    "    predictions=cls.classify_many(docs)\n",
    "    #zip the predictions with the goldstandard labels and compare\n",
    "    for prediction,goldlabel in zip(predictions,goldstandard):\n",
    "        if prediction==goldlabel:\n",
    "            acc+=1\n",
    "    \n",
    "    return acc / (len(test_data))"
   ]
  },
  {
   "cell_type": "code",
   "execution_count": 14,
   "metadata": {},
   "outputs": [],
   "source": [
    "def get_metrics(classifier, testing_data):\n",
    "    test_data = list(zip(*testing_data))\n",
    "    pred = classifier.classify_many(test_data[0])\n",
    "    gold_st = test_data[1]\n",
    "    matrix = ConfusionMatrix(pred, gold_st)\n",
    "    precision = matrix.precision()\n",
    "    recall = matrix.recall()\n",
    "    f1_score = matrix.f1()\n",
    "    accuracy = classifier_evaluate(classifier, testing_data)\n",
    "    list_metrics = [accuracy, precision, recall, f1_score]\n",
    "    return list_metrics"
   ]
  },
  {
   "cell_type": "code",
   "execution_count": 15,
   "metadata": {},
   "outputs": [
    {
     "data": {
      "text/html": [
       "<style  type=\"text/css\" >\n",
       "</style><table id=\"T_a478f_\" style = 'displaye:inline'><caption>3. a) Evaluation Metrics for Word List Classifier</caption><thead>    <tr>        <th class=\"blank level0\" ></th>        <th class=\"col_heading level0 col0\" >Score</th>    </tr></thead><tbody>\n",
       "                <tr>\n",
       "                        <th id=\"T_a478f_level0_row0\" class=\"row_heading level0 row0\" >Accuracy</th>\n",
       "                        <td id=\"T_a478f_row0_col0\" class=\"data row0 col0\" >0.588333</td>\n",
       "            </tr>\n",
       "            <tr>\n",
       "                        <th id=\"T_a478f_level0_row1\" class=\"row_heading level0 row1\" >Precision</th>\n",
       "                        <td id=\"T_a478f_row1_col0\" class=\"data row1 col0\" >0.567391</td>\n",
       "            </tr>\n",
       "            <tr>\n",
       "                        <th id=\"T_a478f_level0_row2\" class=\"row_heading level0 row2\" >Recall</th>\n",
       "                        <td id=\"T_a478f_row2_col0\" class=\"data row2 col0\" >0.870000</td>\n",
       "            </tr>\n",
       "            <tr>\n",
       "                        <th id=\"T_a478f_level0_row3\" class=\"row_heading level0 row3\" >F1</th>\n",
       "                        <td id=\"T_a478f_row3_col0\" class=\"data row3 col0\" >0.686842</td>\n",
       "            </tr>\n",
       "    </tbody></table>"
      ],
      "text/plain": [
       "<pandas.io.formats.style.Styler at 0x7fe538c3aa90>"
      ]
     },
     "execution_count": 15,
     "metadata": {},
     "output_type": "execute_result"
    }
   ],
   "source": [
    "metrics = pd.DataFrame(get_metrics(WordListClassifier(pos_word_list, neg_word_list), testing_norm), [\"Accuracy\",\"Precision\",\"Recall\",\"F1\"], columns=[\"Score\"])\n",
    "metrics.style.set_table_attributes(\"style = 'displaye:inline'\").set_caption(\"3. a) Evaluation Metrics for Word List Classifier\")"
   ]
  },
  {
   "cell_type": "markdown",
   "metadata": {},
   "source": []
  },
  {
   "cell_type": "markdown",
   "metadata": {},
   "source": [
    "### 3. b)\n",
    "\n",
    "The accuracy involves calculating what proportion of the testing data was correctly classified (i.e. it gave the same answer as the gold standard label). This measure can be very misleading if you have unbalanced classes in the data that you are testing on. However, in this case assessing the classifier in terms of its accuracy is a reasonable choice of evaluation metric given that we know that the number of truly positive and truly negative reviews are equal (300 in each class). In addition to this the consequence of prediction errors are not particularly detrimental either, making this metric justifiable. \n",
    "\n",
    "An example of when accuracy would be a misleading evaluation metric would be where you might have severely unbalanced classes. For instance, if you had a classifier that was perfect at classifying a certain class of which 95% of the test set were in that class, yet very poor at classifying the other class, you would still get an accuracy of 95%, which is a misleading measure. This is is a serious problem in certain contexts, say the diagnosis of benign and malignant tumors from medical scans. Perhaps you have a classifier that is very good at correctly predicting benign tumors (of which perhaps 99% of cases are) and very poor at correctly identifying cancerous tumors; this would lead to the misleading fact that the classifier is 99% accurate, and potentially lead to harmful misdiagnoses."
   ]
  },
  {
   "attachments": {},
   "cell_type": "markdown",
   "metadata": {
    "id": "LIS9UpmJNEAp"
   },
   "source": [
    "## Part 4\n",
    "a)  **Construction** of a Naive Bayes classifier\n",
    "\n",
    "b)  **Comparison** of the performance of the word list classifier with the Naive Bayes classifier."
   ]
  },
  {
   "cell_type": "code",
   "execution_count": 16,
   "metadata": {},
   "outputs": [],
   "source": [
    "#put the data in the right format for the naive classifier to learn from\n",
    "\n",
    "def dict_for_each_review(review):\n",
    "    word_freq_dict = FreqDist()\n",
    "    for word in review:\n",
    "        if word in word_freq_dict.keys():\n",
    "            word_freq_dict[word] = word_freq_dict[word] + 1\n",
    "        else:\n",
    "            word_freq_dict[word] = 1\n",
    "    return word_freq_dict\n",
    "\n",
    "def format_data(data):\n",
    "    new_data = []\n",
    "    for tuple_pair in data:\n",
    "        new_data.append((dict_for_each_review(tuple_pair[0]), tuple_pair[1]))\n",
    "    return new_data\n",
    "\n",
    "training_nb = format_data(training_norm)\n",
    "testing_nb = format_data(testing_norm)"
   ]
  },
  {
   "cell_type": "code",
   "execution_count": 17,
   "metadata": {},
   "outputs": [],
   "source": [
    "from nltk.classify import NaiveBayesClassifier\n",
    "nltk_nb=NaiveBayesClassifier.train(training_nb)"
   ]
  },
  {
   "cell_type": "code",
   "execution_count": 18,
   "metadata": {},
   "outputs": [
    {
     "data": {
      "text/html": [
       "<style  type=\"text/css\" >\n",
       "</style><table id=\"T_820b2_\" style = 'displaye:inline'><caption>4. b) Evaluation Metrics for NLTK Naive Bayes Classifier</caption><thead>    <tr>        <th class=\"blank level0\" ></th>        <th class=\"col_heading level0 col0\" >Score</th>    </tr></thead><tbody>\n",
       "                <tr>\n",
       "                        <th id=\"T_820b2_level0_row0\" class=\"row_heading level0 row0\" >Accuracy</th>\n",
       "                        <td id=\"T_820b2_row0_col0\" class=\"data row0 col0\" >0.633333</td>\n",
       "            </tr>\n",
       "            <tr>\n",
       "                        <th id=\"T_820b2_level0_row1\" class=\"row_heading level0 row1\" >Precision</th>\n",
       "                        <td id=\"T_820b2_row1_col0\" class=\"data row1 col0\" >0.577519</td>\n",
       "            </tr>\n",
       "            <tr>\n",
       "                        <th id=\"T_820b2_level0_row2\" class=\"row_heading level0 row2\" >Recall</th>\n",
       "                        <td id=\"T_820b2_row2_col0\" class=\"data row2 col0\" >0.993333</td>\n",
       "            </tr>\n",
       "            <tr>\n",
       "                        <th id=\"T_820b2_level0_row3\" class=\"row_heading level0 row3\" >F1</th>\n",
       "                        <td id=\"T_820b2_row3_col0\" class=\"data row3 col0\" >0.730392</td>\n",
       "            </tr>\n",
       "    </tbody></table>"
      ],
      "text/plain": [
       "<pandas.io.formats.style.Styler at 0x7fe538c3a760>"
      ]
     },
     "execution_count": 18,
     "metadata": {},
     "output_type": "execute_result"
    }
   ],
   "source": [
    "metrics2 = pd.DataFrame(get_metrics(nltk_nb, testing_nb), [\"Accuracy\",\"Precision\",\"Recall\",\"F1\"], columns=[\"Score\"])\n",
    "metrics2.style.set_table_attributes(\"style = 'displaye:inline'\").set_caption(\"4. b) Evaluation Metrics for NLTK Naive Bayes Classifier\")"
   ]
  },
  {
   "cell_type": "markdown",
   "metadata": {},
   "source": []
  },
  {
   "cell_type": "markdown",
   "metadata": {},
   "source": [
    "### 4. b)\n",
    "\n",
    "Overall, the naive bayes (NB) classifier consistently performed better on all 4 metrics than my wordlist classifier, with recall being the most significantly better metric (with an improvement of 12.3%). The the accuracy of the NB clasifier was 63.3% over 58.8% for my classifier. The precision was only 1.0% better, however the superior recall measure contributed most to to the improved f1 score of 73.0% (copared to 68.7%).\n",
    "\n",
    "Given the results for precision and recall for my classifier, it seems as though it is much more likely to classify things as positive than it should do. It is good at identifying correctly identifying reviews in the positive class as being positive, reflected in the (relatively) high recall rate, however the precision is only just above 50% meaning that many of the positive class predictions where incorrectly for the negative class.\n",
    "\n",
    "The reason for this may be due to a frequency imbalance between the top 10 most representative words for positive and negative (the frequencies of the positive wordlist that I derived are on the whole greater than in the negative wordlist, introducing a bias to my classifier). Naive Bayes classification on the other hand, does not suffer from the problem as it is based on probability of the observed features given the class. "
   ]
  },
  {
   "attachments": {},
   "cell_type": "markdown",
   "metadata": {
    "id": "LGDXaVDqOSfY"
   },
   "source": [
    "## Part 5\n",
    "a) **Experiment** into the impact of the **length of the wordlists** on the wordlist classifier. Includes **design decisions**, a **graph** of my results and **discussion** of conclusions. \n",
    "\n",
    "b) **Commentary** a wordlist classifier and Naive Bayes classifier as well as future work in this area\n"
   ]
  },
  {
   "cell_type": "code",
   "execution_count": 19,
   "metadata": {},
   "outputs": [],
   "source": [
    "import numpy as np\n",
    "import matplotlib.pyplot as plt\n"
   ]
  },
  {
   "cell_type": "code",
   "execution_count": 20,
   "metadata": {},
   "outputs": [],
   "source": [
    "def iter_metrics(rang):\n",
    "    precisions = []\n",
    "    recalls = []\n",
    "    f1s = []\n",
    "    for i in rang:\n",
    "        pos_word_list = most_frequent_words(pos_freq_dist, neg_freq_dist, i)\n",
    "        neg_word_list = most_frequent_words(neg_freq_dist, pos_freq_dist, i)\n",
    "\n",
    "        accuracy, precision, recall, f1 = get_metrics(WordListClassifier(pos_word_list, neg_word_list), testing_norm)\n",
    "        precisions.append(precision)\n",
    "        recalls.append(recall)\n",
    "        f1s.append(f1)\n",
    "\n",
    "    precision_ar = np.array(precisions)\n",
    "    recall_ar = np.array(recalls)\n",
    "    f1_ar = np.array(f1s)\n",
    "\n",
    "    return precision_ar, recall_ar, f1_ar\n",
    "\n",
    "def plot_metrics(rang, p, r, f1):\n",
    "    #first graph\n",
    "    plt.plot(rang, p, label = \"Precision\")\n",
    "    plt.title(\"A) Effect of Word List Length on Classifier Performance\")\n",
    "    plt.xlabel(\"Word list length\")\n",
    "    plt.ylabel(\"Score\")\n",
    "    plt.plot(rang, r, label = \"Recall\")\n",
    "    plt.plot(rang, f1, label = \"F1\")\n",
    "    plt.legend(loc=\"center right\")\n",
    "    plt.show()\n",
    "    \n",
    "    #second graph\n",
    "    plt.plot(rang, f1)\n",
    "    plt.title(\"B) Effect of Word List Length on F1\")\n",
    "    plt.xlabel(\"Wordlist length\")\n",
    "    plt.ylabel(\"F1 Score\")\n",
    "    plt.show()\n",
    "    \n",
    "    #max values\n",
    "    print(\"Max precision:\", format(np.max(p),\".4f\"))\n",
    "    print(\"Max recall:\", format(np.max(r),\".4f\"))\n",
    "    print(\"Max f1:\", format(np.max(f1),\".4f\"))\n",
    "\n",
    "    \n",
    "    return None\n",
    "    \n"
   ]
  },
  {
   "cell_type": "code",
   "execution_count": 21,
   "metadata": {},
   "outputs": [],
   "source": [
    "precision_ar, recall_ar, f1_ar = iter_metrics(range(1, 500, 5))"
   ]
  },
  {
   "cell_type": "code",
   "execution_count": 22,
   "metadata": {},
   "outputs": [],
   "source": [
    "def iter_wordlist_sums(rang):\n",
    "    pos = []\n",
    "    neg = []\n",
    "    for i in rang:\n",
    "        pos_word_list = most_frequent_words(pos_freq_dist, neg_freq_dist, i)\n",
    "        neg_word_list = most_frequent_words(neg_freq_dist, pos_freq_dist, i)\n",
    "        pos.append(sum(pos_word_list.values()))\n",
    "        neg.append(sum(neg_word_list.values()))\n",
    "    ratio = np.array(pos) / np.array(neg)\n",
    "    mean_ratio = np.mean(ratio)\n",
    "    return mean_ratio\n",
    "\n",
    "adjust = iter_wordlist_sums(range(1, 500, 5))"
   ]
  },
  {
   "cell_type": "code",
   "execution_count": 23,
   "metadata": {},
   "outputs": [],
   "source": [
    "def iter_metrics_adjusted(rang):\n",
    "    precisions = []\n",
    "    recalls = []\n",
    "    f1s = []\n",
    "    for i in rang:\n",
    "        pos_word_list = most_frequent_words(pos_freq_dist, neg_freq_dist, i)\n",
    "        neg_word_list = most_frequent_words(neg_freq_dist, pos_freq_dist, (i * round(adjust))) #adjusted for unblanaced class\n",
    "\n",
    "        accuracy, precision, recall, f1 = get_metrics(WordListClassifier(pos_word_list, neg_word_list), testing_norm)\n",
    "        precisions.append(precision)\n",
    "        recalls.append(recall)\n",
    "        f1s.append(f1)\n",
    "\n",
    "    precision_ar = np.array(precisions)\n",
    "    recall_ar = np.array(recalls)\n",
    "    f1_ar = np.array(f1s)\n",
    "    \n",
    "    return precision_ar, recall_ar, f1_ar"
   ]
  },
  {
   "cell_type": "code",
   "execution_count": 24,
   "metadata": {},
   "outputs": [],
   "source": [
    "precision_ar2, recall_ar2, f1_ar2 = iter_metrics_adjusted(range(1, 500, 5))"
   ]
  },
  {
   "cell_type": "markdown",
   "metadata": {},
   "source": []
  },
  {
   "cell_type": "markdown",
   "metadata": {},
   "source": [
    "### 5. a)\n",
    "\n",
    "Design\n",
    "\n",
    "Part 1:\n",
    "\n",
    "I decided to investigate what would happen to precision and recall measures (which can be combined and summarised further by the f1 score) when the word list length is gradually increased. I therefore chose to iteratively plot what happened to these metrics as I gradually increased the value of k from 1 to 500 words (in order to sample a large range to provide a comprehensive overview) in steps of 5 (to ensure significantly high resolution in the plotted graph). \n"
   ]
  },
  {
   "cell_type": "code",
   "execution_count": 25,
   "metadata": {},
   "outputs": [
    {
     "name": "stdout",
     "output_type": "stream",
     "text": [
      "Figure 1\n"
     ]
    },
    {
     "data": {
      "image/png": "[encoded data removed]",
      "text/plain": [
       "<Figure size 432x288 with 1 Axes>"
      ]
     },
     "metadata": {
      "needs_background": "light"
     },
     "output_type": "display_data"
    },
    {
     "data": {
      "image/png": "[encoded data removed]",
      "text/plain": [
       "<Figure size 432x288 with 1 Axes>"
      ]
     },
     "metadata": {
      "needs_background": "light"
     },
     "output_type": "display_data"
    },
    {
     "name": "stdout",
     "output_type": "stream",
     "text": [
      "Max precision: 0.5708\n",
      "Max recall: 1.0000\n",
      "Max f1: 0.6988\n"
     ]
    }
   ],
   "source": [
    "print(\"Figure 1\")\n",
    "plot_metrics(range(1, 500, 5), precision_ar, recall_ar, f1_ar)"
   ]
  },
  {
   "cell_type": "markdown",
   "metadata": {},
   "source": [
    "Results\n",
    "\n",
    "Part 1:\n",
    "\n",
    "Figure 1a shows that indeed recall does improve as the word list length increases, however, it  reaching a maximum of 100% at 256 words, before slightly reducing in performance (but remaining close to this maximum value) up to 500 words. Precision, on the other hand reaches a maximum (57.1%) much sooner at 21 words and gradually drops from this value with increases in word list length making little difference to precision. \n",
    "\n",
    "Figure 1b more clearly shows the f1 score, which takes into account both precision and recall measures, which for my classifier peaks at 69.8% at 80 words. This can therefore be seen as the optimal word list length for classifier performance."
   ]
  },
  {
   "cell_type": "markdown",
   "metadata": {},
   "source": [
    "\n",
    "Part 2:\n",
    "\n",
    "As discussed in question 4b, given that the precision for my original classifier (with the top 10 words in each list) is only just over 57% while the recall is (relatively) high (87%), it suggests that there is a strong bias towards classifying reviews of a particular category. I hypothesised that this may be due to the fact that my method for classifying words was based on frequency of one distribution relative to another however when tallying up the total frequency for the top 10 positive words (total_10_pos, total_10_neg), it was significantly higher than the top 10 negative words. This would be a source of bias towards classifying reviews as positive as, although a certain word may be more frequent in negative than the positive list, it will come across positive list words overall more regularly."
   ]
  },
  {
   "cell_type": "code",
   "execution_count": 26,
   "metadata": {},
   "outputs": [
    {
     "name": "stdout",
     "output_type": "stream",
     "text": [
      "3616 1954\n"
     ]
    }
   ],
   "source": [
    "total_10_pos = sum(pos_word_list.values())\n",
    "total_10_neg = sum(neg_word_list.values())\n",
    "print(total_10_pos, total_10_neg)"
   ]
  },
  {
   "cell_type": "markdown",
   "metadata": {},
   "source": [
    "Design\n",
    "\n",
    "I therefore decided to perform a second experiment which (as in part 1) varies k over 500 words, while ensuring that this ratio between the two word lists during each iterative plot of the metrics value was corrected for by multiplying the value of k by the mean average of the word list difference, essentially crudely adjusting for this disparity. Then, by comparing these results to my unadjusted experiment in part 1, any improvement in performance can be evaluated."
   ]
  },
  {
   "cell_type": "code",
   "execution_count": 27,
   "metadata": {},
   "outputs": [
    {
     "name": "stdout",
     "output_type": "stream",
     "text": [
      "Figure 2:\n"
     ]
    },
    {
     "data": {
      "image/png": "[encoded data removed]",
      "text/plain": [
       "<Figure size 432x288 with 1 Axes>"
      ]
     },
     "metadata": {
      "needs_background": "light"
     },
     "output_type": "display_data"
    },
    {
     "data": {
      "image/png": "[encoded data removed]",
      "text/plain": [
       "<Figure size 432x288 with 1 Axes>"
      ]
     },
     "metadata": {
      "needs_background": "light"
     },
     "output_type": "display_data"
    },
    {
     "name": "stdout",
     "output_type": "stream",
     "text": [
      "Max precision: 0.6259\n",
      "Max recall: 0.9667\n",
      "Max f1: 0.7374\n",
      "Second Peak: 0.7371\n"
     ]
    }
   ],
   "source": [
    "print(\"Figure 2:\")\n",
    "plot_metrics(range(1, 500, 5), precision_ar2, recall_ar2, f1_ar2)\n",
    "print(\"Second Peak:\", format(np.unique(f1_ar2)[-2], \".4f\"))"
   ]
  },
  {
   "cell_type": "code",
   "execution_count": 28,
   "metadata": {},
   "outputs": [
    {
     "name": "stdout",
     "output_type": "stream",
     "text": [
      "Figure 3:\n"
     ]
    },
    {
     "data": {
      "image/png": "[encoded data removed]",
      "text/plain": [
       "<Figure size 432x288 with 1 Axes>"
      ]
     },
     "metadata": {
      "needs_background": "light"
     },
     "output_type": "display_data"
    }
   ],
   "source": [
    "print(\"Figure 3:\")\n",
    "plt.plot(range(1, 500, 5), f1_ar, label = \"My Word List Classifier\")\n",
    "plt.plot(range(1, 500, 5), f1_ar2, label = \"Word List Length Adjusted Classifier\")\n",
    "plt.xlabel(\"Word list length\")\n",
    "plt.ylabel(\"F1 Score\")\n",
    "plt.legend(loc=\"best\")\n",
    "plt.title(\"A) Comparing Effect of Word List length on Performance of Two Classifiers\")\n",
    "plt.show()"
   ]
  },
  {
   "cell_type": "markdown",
   "metadata": {},
   "source": [
    "Results\n",
    "\n",
    "Indeed, as Figure 2a and 2b show, while the maximum recall is compromised slightly (reduced to 96.7%), the precision and f1 score are greatly improved upon (by 5.5% and 3.9% respectively) when wordlist length differences are adjusted for. Figure 3a compares the f1 scores of the original and the word list length adjusted classifier and clearly shows the 3.9% improvement that this correction for word list frequency discrepancy made. It reaches this maximum later on however, at 301 words, which can be seen as the optimal wordlist length for this adjusted classifier. This suggests that the hypothesis that the difference in word list frequency was at least in part to blame for this bias towards classifying reviews as positive."
   ]
  },
  {
   "cell_type": "markdown",
   "metadata": {},
   "source": [
    "### 5. b)\n",
    "\n",
    "Overall, the improved version of the wordlist classifier had an f1 score that was 0.7% better than the naive bayes classifier from nltk, although recall still remained higher with the nb classifier (by 2.6%). While the f1 score for my classifier reflects a better performance for precision and recall combined, the wordlist classifier is sensitive to the choice of wordlist length, which must be calculated for each dataset in order to find the optimum number. The naive bayes classifier does not suffer from this problem given that it is based on calculating feature probabilities independently. This would provide more flexibility for working in the area of document classification, as unlike my own classifier, you do not have to calculate and tweak the parameters for a given dataset in order to achieve the best results, therefore I would prefer to use the naive bayes classifier for future work in this area."
   ]
  },
  {
   "cell_type": "code",
   "execution_count": null,
   "metadata": {},
   "outputs": [],
   "source": []
  }
 ],
 "metadata": {
  "colab": {
   "authorship_tag": "ABX9TyNR6MWwZjzeJdfC3cJvdSQV",
   "name": "assignment1_SOLUTIONS.ipynb",
   "provenance": []
  },
  "kernelspec": {
   "display_name": "Python 3 (ipykernel)",
   "language": "python",
   "name": "python3"
  },
  "language_info": {
   "codemirror_mode": {
    "name": "ipython",
    "version": 3
   },
   "file_extension": ".py",
   "mimetype": "text/x-python",
   "name": "python",
   "nbconvert_exporter": "python",
   "pygments_lexer": "ipython3",
   "version": "3.8.8"
  }
 },
 "nbformat": 4,
 "nbformat_minor": 1
}
